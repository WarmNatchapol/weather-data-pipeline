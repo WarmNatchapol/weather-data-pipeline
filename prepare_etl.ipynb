{
 "cells": [
  {
   "cell_type": "code",
   "execution_count": 1,
   "metadata": {},
   "outputs": [],
   "source": [
    "import os \n",
    "from dotenv import load_dotenv\n",
    "import requests\n",
    "import json\n",
    "import pandas as pd\n",
    "from datetime import datetime\n",
    "import pytz"
   ]
  },
  {
   "cell_type": "code",
   "execution_count": 2,
   "metadata": {},
   "outputs": [],
   "source": [
    "load_dotenv()\n",
    "\n",
    "api_key = os.environ.get(\"API_KEY\")"
   ]
  },
  {
   "cell_type": "code",
   "execution_count": 5,
   "metadata": {},
   "outputs": [],
   "source": [
    "coor = {\n",
    "    \"saimai\": {\"lat\": \"13.896\", \"lon\": \"100.672\"},\n",
    "    \"pathumwan\": {\"lat\": \"13.740\", \"lon\": \"100.535\"}\n",
    "}\n",
    "\n",
    "parts = \"minutely,hourly,daily,alerts\"\n",
    "units = \"metric\""
   ]
  },
  {
   "cell_type": "code",
   "execution_count": 8,
   "metadata": {},
   "outputs": [],
   "source": [
    "weather_url = f\"https://api.openweathermap.org/data/3.0/onecall?lat={coor['saimai']['lat']}&lon={coor['saimai']['lon']}&exclude={parts}&units={units}&appid={api_key}\"\n",
    "air_url = f\"https://api.openweathermap.org/data/2.5/air_pollution?lat={coor['saimai']['lat']}&lon={coor['saimai']['lon']}&appid={api_key}\""
   ]
  },
  {
   "cell_type": "code",
   "execution_count": 9,
   "metadata": {},
   "outputs": [],
   "source": [
    "weather_response = requests.get(weather_url)\n",
    "air_response = requests.get(air_url)"
   ]
  },
  {
   "cell_type": "code",
   "execution_count": 10,
   "metadata": {},
   "outputs": [
    {
     "name": "stdout",
     "output_type": "stream",
     "text": [
      "<Response [200]>\n",
      "<Response [200]>\n"
     ]
    }
   ],
   "source": [
    "print(weather_response)\n",
    "print(air_response)"
   ]
  },
  {
   "cell_type": "code",
   "execution_count": 13,
   "metadata": {},
   "outputs": [],
   "source": [
    "weather_result = weather_response.json()\n",
    "air_result = air_response.json()"
   ]
  },
  {
   "cell_type": "code",
   "execution_count": 16,
   "metadata": {},
   "outputs": [
    {
     "name": "stdout",
     "output_type": "stream",
     "text": [
      "{'lat': 13.896, 'lon': 100.672, 'timezone': 'Asia/Bangkok', 'timezone_offset': 25200, 'current': {'dt': 1683818347, 'sunrise': 1683759119, 'sunset': 1683804929, 'temp': 30.9, 'feels_like': 34.16, 'pressure': 1010, 'humidity': 58, 'dew_point': 21.67, 'uvi': 0, 'clouds': 20, 'visibility': 10000, 'wind_speed': 2.57, 'wind_deg': 170, 'weather': [{'id': 500, 'main': 'Rain', 'description': 'light rain', 'icon': '10n'}], 'rain': {'1h': 0.15}}}\n",
      "{'coord': {'lon': 100.672, 'lat': 13.896}, 'list': [{'main': {'aqi': 5}, 'components': {'co': 3685, 'no': 109.97, 'no2': 45.93, 'o3': 0, 'so2': 87.74, 'pm2_5': 84.79, 'pm10': 128.86, 'nh3': 31.16}, 'dt': 1683818347}]}\n"
     ]
    }
   ],
   "source": [
    "print(weather_result)\n",
    "print(air_result)"
   ]
  },
  {
   "cell_type": "code",
   "execution_count": 74,
   "metadata": {},
   "outputs": [],
   "source": [
    "weather_dict = {}\n",
    "\n",
    "thai_tz = pytz.timezone(\"Asia/Bangkok\")\n",
    "\n",
    "time_list = [\"dt\", \"sunrise\", \"sunset\"]\n",
    "\n",
    "for key in weather_result[\"current\"].keys():\n",
    "    if key in time_list:\n",
    "        unix_time = weather_result[\"current\"][key]\n",
    "        local_time = datetime.fromtimestamp(unix_time, thai_tz).strftime(\"%Y-%m-%d %H:%M:%S\")\n",
    "        weather_dict[key] = local_time\n",
    "    elif key not in time_list + [\"weather\", \"wind_gust\", \"rain\"]:\n",
    "        weather_dict[key] = weather_result[\"current\"][key]\n",
    "    elif key == \"weather\":\n",
    "        main = weather_result[\"current\"][key][0][\"main\"]\n",
    "        description = weather_result[\"current\"][key][0][\"description\"]\n",
    "        weather_dict[\"weather_main\"] = main\n",
    "        weather_dict[\"weather_description\"] = description\n",
    "    elif key == \"wind_gust\":\n",
    "        wind_gust = weather_result[\"current\"][key]\n",
    "        weather_dict[\"wind_gust\"] = wind_gust\n",
    "    elif key == \"rain\":\n",
    "        rain = weather_result[\"current\"][key][\"1h\"]\n",
    "        weather_dict[\"rain\"] = rain"
   ]
  },
  {
   "cell_type": "code",
   "execution_count": 76,
   "metadata": {},
   "outputs": [],
   "source": [
    "air_dict = {}\n",
    "\n",
    "air_dict[\"aqi\"] = air_result[\"list\"][0][\"main\"][\"aqi\"]\n",
    "\n",
    "for component in air_result[\"list\"][0][\"components\"]:\n",
    "    air_dict[component] = air_result[\"list\"][0][\"components\"][component]"
   ]
  },
  {
   "cell_type": "code",
   "execution_count": 75,
   "metadata": {},
   "outputs": [
    {
     "data": {
      "text/plain": [
       "{'dt': '2023-05-11 22:19:07',\n",
       " 'sunrise': '2023-05-11 05:51:59',\n",
       " 'sunset': '2023-05-11 18:35:29',\n",
       " 'temp': 30.9,\n",
       " 'feels_like': 34.16,\n",
       " 'pressure': 1010,\n",
       " 'humidity': 58,\n",
       " 'dew_point': 21.67,\n",
       " 'uvi': 0,\n",
       " 'clouds': 20,\n",
       " 'visibility': 10000,\n",
       " 'wind_speed': 2.57,\n",
       " 'wind_deg': 170,\n",
       " 'weather_main': 'Rain',\n",
       " 'weather_description': 'light rain',\n",
       " 'rain': 0.15}"
      ]
     },
     "execution_count": 75,
     "metadata": {},
     "output_type": "execute_result"
    }
   ],
   "source": [
    "weather_dict"
   ]
  },
  {
   "cell_type": "code",
   "execution_count": 77,
   "metadata": {},
   "outputs": [
    {
     "data": {
      "text/plain": [
       "{'aqi': 5,\n",
       " 'co': 3685,\n",
       " 'no': 109.97,\n",
       " 'no2': 45.93,\n",
       " 'o3': 0,\n",
       " 'so2': 87.74,\n",
       " 'pm2_5': 84.79,\n",
       " 'pm10': 128.86,\n",
       " 'nh3': 31.16}"
      ]
     },
     "execution_count": 77,
     "metadata": {},
     "output_type": "execute_result"
    }
   ],
   "source": [
    "air_dict"
   ]
  },
  {
   "cell_type": "code",
   "execution_count": 82,
   "metadata": {},
   "outputs": [
    {
     "data": {
      "text/html": [
       "<div>\n",
       "<style scoped>\n",
       "    .dataframe tbody tr th:only-of-type {\n",
       "        vertical-align: middle;\n",
       "    }\n",
       "\n",
       "    .dataframe tbody tr th {\n",
       "        vertical-align: top;\n",
       "    }\n",
       "\n",
       "    .dataframe thead th {\n",
       "        text-align: right;\n",
       "    }\n",
       "</style>\n",
       "<table border=\"1\" class=\"dataframe\">\n",
       "  <thead>\n",
       "    <tr style=\"text-align: right;\">\n",
       "      <th></th>\n",
       "      <th>dt</th>\n",
       "      <th>sunrise</th>\n",
       "      <th>sunset</th>\n",
       "      <th>temp</th>\n",
       "      <th>feels_like</th>\n",
       "      <th>pressure</th>\n",
       "      <th>humidity</th>\n",
       "      <th>dew_point</th>\n",
       "      <th>uvi</th>\n",
       "      <th>clouds</th>\n",
       "      <th>visibility</th>\n",
       "      <th>wind_speed</th>\n",
       "      <th>wind_deg</th>\n",
       "      <th>weather_main</th>\n",
       "      <th>weather_description</th>\n",
       "      <th>rain</th>\n",
       "    </tr>\n",
       "  </thead>\n",
       "  <tbody>\n",
       "    <tr>\n",
       "      <th>0</th>\n",
       "      <td>2023-05-11 22:19:07</td>\n",
       "      <td>2023-05-11 05:51:59</td>\n",
       "      <td>2023-05-11 18:35:29</td>\n",
       "      <td>30.9</td>\n",
       "      <td>34.16</td>\n",
       "      <td>1010</td>\n",
       "      <td>58</td>\n",
       "      <td>21.67</td>\n",
       "      <td>0</td>\n",
       "      <td>20</td>\n",
       "      <td>10000</td>\n",
       "      <td>2.57</td>\n",
       "      <td>170</td>\n",
       "      <td>Rain</td>\n",
       "      <td>light rain</td>\n",
       "      <td>0.15</td>\n",
       "    </tr>\n",
       "  </tbody>\n",
       "</table>\n",
       "</div>"
      ],
      "text/plain": [
       "                    dt              sunrise               sunset  temp  \\\n",
       "0  2023-05-11 22:19:07  2023-05-11 05:51:59  2023-05-11 18:35:29  30.9   \n",
       "\n",
       "   feels_like  pressure  humidity  dew_point  uvi  clouds  visibility  \\\n",
       "0       34.16      1010        58      21.67    0      20       10000   \n",
       "\n",
       "   wind_speed  wind_deg weather_main weather_description  rain  \n",
       "0        2.57       170         Rain          light rain  0.15  "
      ]
     },
     "execution_count": 82,
     "metadata": {},
     "output_type": "execute_result"
    }
   ],
   "source": [
    "pd.DataFrame(weather_dict, index=[0])"
   ]
  },
  {
   "cell_type": "code",
   "execution_count": 86,
   "metadata": {},
   "outputs": [
    {
     "data": {
      "text/html": [
       "<div>\n",
       "<style scoped>\n",
       "    .dataframe tbody tr th:only-of-type {\n",
       "        vertical-align: middle;\n",
       "    }\n",
       "\n",
       "    .dataframe tbody tr th {\n",
       "        vertical-align: top;\n",
       "    }\n",
       "\n",
       "    .dataframe thead th {\n",
       "        text-align: right;\n",
       "    }\n",
       "</style>\n",
       "<table border=\"1\" class=\"dataframe\">\n",
       "  <thead>\n",
       "    <tr style=\"text-align: right;\">\n",
       "      <th></th>\n",
       "      <th>aqi</th>\n",
       "      <th>co</th>\n",
       "      <th>no</th>\n",
       "      <th>no2</th>\n",
       "      <th>o3</th>\n",
       "      <th>so2</th>\n",
       "      <th>pm2_5</th>\n",
       "      <th>pm10</th>\n",
       "      <th>nh3</th>\n",
       "    </tr>\n",
       "  </thead>\n",
       "  <tbody>\n",
       "    <tr>\n",
       "      <th>0</th>\n",
       "      <td>5</td>\n",
       "      <td>3685</td>\n",
       "      <td>109.97</td>\n",
       "      <td>45.93</td>\n",
       "      <td>0</td>\n",
       "      <td>87.74</td>\n",
       "      <td>84.79</td>\n",
       "      <td>128.86</td>\n",
       "      <td>31.16</td>\n",
       "    </tr>\n",
       "  </tbody>\n",
       "</table>\n",
       "</div>"
      ],
      "text/plain": [
       "   aqi    co      no    no2  o3    so2  pm2_5    pm10    nh3\n",
       "0    5  3685  109.97  45.93   0  87.74  84.79  128.86  31.16"
      ]
     },
     "execution_count": 86,
     "metadata": {},
     "output_type": "execute_result"
    }
   ],
   "source": [
    "pd.DataFrame(air_dict, index=[0])"
   ]
  }
 ],
 "metadata": {
  "kernelspec": {
   "display_name": "Python 3",
   "language": "python",
   "name": "python3"
  },
  "language_info": {
   "codemirror_mode": {
    "name": "ipython",
    "version": 3
   },
   "file_extension": ".py",
   "mimetype": "text/x-python",
   "name": "python",
   "nbconvert_exporter": "python",
   "pygments_lexer": "ipython3",
   "version": "3.10.5"
  },
  "orig_nbformat": 4
 },
 "nbformat": 4,
 "nbformat_minor": 2
}
