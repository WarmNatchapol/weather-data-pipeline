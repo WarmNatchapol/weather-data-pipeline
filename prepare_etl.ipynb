{
 "cells": [
  {
   "cell_type": "code",
   "execution_count": 1,
   "metadata": {},
   "outputs": [],
   "source": [
    "# import libraries\n",
    "import os \n",
    "from dotenv import load_dotenv\n",
    "import requests\n",
    "import json\n",
    "import pandas as pd\n",
    "from datetime import datetime\n",
    "import pytz"
   ]
  },
  {
   "cell_type": "code",
   "execution_count": 2,
   "metadata": {},
   "outputs": [],
   "source": [
    "# get API key from .env file\n",
    "load_dotenv()\n",
    "\n",
    "api_key = os.environ.get(\"API_KEY\")"
   ]
  },
  {
   "cell_type": "code",
   "execution_count": 3,
   "metadata": {},
   "outputs": [],
   "source": [
    "# coordinates of Saimai district and Pathumwan district\n",
    "coor = {\n",
    "    \"saimai\": {\"lat\": \"13.896\", \"lon\": \"100.672\"},\n",
    "    \"pathumwan\": {\"lat\": \"13.740\", \"lon\": \"100.535\"}\n",
    "}\n",
    "\n",
    "# parts that unnecessary from API\n",
    "parts = \"minutely,hourly,daily,alerts\"\n",
    "# system of units\n",
    "units = \"metric\""
   ]
  },
  {
   "cell_type": "code",
   "execution_count": 4,
   "metadata": {},
   "outputs": [],
   "source": [
    "# API url\n",
    "weather_url = f\"https://api.openweathermap.org/data/3.0/onecall?lat={coor['saimai']['lat']}&lon={coor['saimai']['lon']}&exclude={parts}&units={units}&appid={api_key}\"\n",
    "air_url = f\"https://api.openweathermap.org/data/2.5/air_pollution?lat={coor['saimai']['lat']}&lon={coor['saimai']['lon']}&appid={api_key}\""
   ]
  },
  {
   "cell_type": "code",
   "execution_count": 5,
   "metadata": {},
   "outputs": [],
   "source": [
    "# get a message payload from API\n",
    "weather_response = requests.get(weather_url)\n",
    "air_response = requests.get(air_url)"
   ]
  },
  {
   "cell_type": "code",
   "execution_count": 6,
   "metadata": {},
   "outputs": [
    {
     "name": "stdout",
     "output_type": "stream",
     "text": [
      "<Response [200]>\n",
      "<Response [200]>\n"
     ]
    }
   ],
   "source": [
    "# print status code\n",
    "print(weather_response)\n",
    "print(air_response)"
   ]
  },
  {
   "cell_type": "code",
   "execution_count": 7,
   "metadata": {},
   "outputs": [],
   "source": [
    "# get dictionary result\n",
    "weather_result = weather_response.json()\n",
    "air_result = air_response.json()"
   ]
  },
  {
   "cell_type": "code",
   "execution_count": 8,
   "metadata": {},
   "outputs": [
    {
     "name": "stdout",
     "output_type": "stream",
     "text": [
      "{'lat': 13.896, 'lon': 100.672, 'timezone': 'Asia/Bangkok', 'timezone_offset': 25200, 'current': {'dt': 1683833776, 'sunrise': 1683845501, 'sunset': 1683891346, 'temp': 29.8, 'feels_like': 35.26, 'pressure': 1009, 'humidity': 73, 'dew_point': 24.44, 'uvi': 0, 'clouds': 20, 'visibility': 10000, 'wind_speed': 1.54, 'wind_deg': 150, 'weather': [{'id': 801, 'main': 'Clouds', 'description': 'few clouds', 'icon': '02n'}]}}\n",
      "{'coord': {'lon': 100.672, 'lat': 13.896}, 'list': [{'main': {'aqi': 5}, 'components': {'co': 3177.64, 'no': 75.1, 'no2': 41.81, 'o3': 0, 'so2': 38.15, 'pm2_5': 87.39, 'pm10': 135.53, 'nh3': 11.53}, 'dt': 1683833776}]}\n"
     ]
    }
   ],
   "source": [
    "# print result\n",
    "print(weather_result)\n",
    "print(air_result)"
   ]
  },
  {
   "cell_type": "code",
   "execution_count": 9,
   "metadata": {},
   "outputs": [],
   "source": [
    "# empty weather result dictionary\n",
    "weather_dict = {}\n",
    "\n",
    "# Thai timezone\n",
    "thai_tz = pytz.timezone(\"Asia/Bangkok\")\n",
    "\n",
    "# time field list\n",
    "time_list = [\"dt\", \"sunrise\", \"sunset\"]\n",
    "\n",
    "# for loop in every key of raw data\n",
    "for key in weather_result[\"current\"].keys():\n",
    "    # if key is in time_list\n",
    "    if key in time_list:\n",
    "        unix_time = weather_result[\"current\"][key]\n",
    "        # convert to datetime\n",
    "        local_time = datetime.fromtimestamp(unix_time, thai_tz).strftime(\"%Y-%m-%d %H:%M:%S\")\n",
    "        # add to result dictionary\n",
    "        weather_dict[key] = local_time\n",
    "    # if key is not in time_list and weather, wind_gust, rain\n",
    "    elif key not in time_list + [\"weather\", \"wind_gust\", \"rain\"]:\n",
    "        # add this key to result dictionary\n",
    "        weather_dict[key] = weather_result[\"current\"][key]\n",
    "    # if key is weather\n",
    "    elif key == \"weather\":\n",
    "        main = weather_result[\"current\"][key][0][\"main\"]\n",
    "        description = weather_result[\"current\"][key][0][\"description\"]\n",
    "        # add weather - main to result dictionary\n",
    "        weather_dict[\"weather_main\"] = main\n",
    "        # add weather - description to result dictionary\n",
    "        weather_dict[\"weather_description\"] = description\n",
    "    # if raw data contains wind_gust\n",
    "    elif key == \"wind_gust\":\n",
    "        wind_gust = weather_result[\"current\"][key]\n",
    "        # add wind_gust to result dictionary\n",
    "        weather_dict[\"wind_gust\"] = wind_gust\n",
    "    # if raw data contains rain\n",
    "    elif key == \"rain\":\n",
    "        rain = weather_result[\"current\"][key][\"1h\"]\n",
    "        # add rain to result dictionary\n",
    "        weather_dict[\"rain\"] = rain"
   ]
  },
  {
   "cell_type": "code",
   "execution_count": 11,
   "metadata": {},
   "outputs": [],
   "source": [
    "# empty air quality result dictionary\n",
    "air_dict = {}\n",
    "\n",
    "# add AQI score to result dictionary\n",
    "air_dict[\"aqi\"] = air_result[\"list\"][0][\"main\"][\"aqi\"]\n",
    "\n",
    "# for loop in every components\n",
    "for component in air_result[\"list\"][0][\"components\"]:\n",
    "    # add component to result dictionary\n",
    "    air_dict[component] = air_result[\"list\"][0][\"components\"][component]"
   ]
  },
  {
   "cell_type": "code",
   "execution_count": 12,
   "metadata": {},
   "outputs": [
    {
     "data": {
      "text/plain": [
       "{'dt': '2023-05-12 02:36:16',\n",
       " 'sunrise': '2023-05-12 05:51:41',\n",
       " 'sunset': '2023-05-12 18:35:46',\n",
       " 'temp': 29.8,\n",
       " 'feels_like': 35.26,\n",
       " 'pressure': 1009,\n",
       " 'humidity': 73,\n",
       " 'dew_point': 24.44,\n",
       " 'uvi': 0,\n",
       " 'clouds': 20,\n",
       " 'visibility': 10000,\n",
       " 'wind_speed': 1.54,\n",
       " 'wind_deg': 150,\n",
       " 'weather_main': 'Clouds',\n",
       " 'weather_description': 'few clouds'}"
      ]
     },
     "execution_count": 12,
     "metadata": {},
     "output_type": "execute_result"
    }
   ],
   "source": [
    "weather_dict"
   ]
  },
  {
   "cell_type": "code",
   "execution_count": 13,
   "metadata": {},
   "outputs": [
    {
     "data": {
      "text/plain": [
       "{'aqi': 5,\n",
       " 'co': 3177.64,\n",
       " 'no': 75.1,\n",
       " 'no2': 41.81,\n",
       " 'o3': 0,\n",
       " 'so2': 38.15,\n",
       " 'pm2_5': 87.39,\n",
       " 'pm10': 135.53,\n",
       " 'nh3': 11.53}"
      ]
     },
     "execution_count": 13,
     "metadata": {},
     "output_type": "execute_result"
    }
   ],
   "source": [
    "air_dict"
   ]
  },
  {
   "cell_type": "code",
   "execution_count": 14,
   "metadata": {},
   "outputs": [
    {
     "data": {
      "text/html": [
       "<div>\n",
       "<style scoped>\n",
       "    .dataframe tbody tr th:only-of-type {\n",
       "        vertical-align: middle;\n",
       "    }\n",
       "\n",
       "    .dataframe tbody tr th {\n",
       "        vertical-align: top;\n",
       "    }\n",
       "\n",
       "    .dataframe thead th {\n",
       "        text-align: right;\n",
       "    }\n",
       "</style>\n",
       "<table border=\"1\" class=\"dataframe\">\n",
       "  <thead>\n",
       "    <tr style=\"text-align: right;\">\n",
       "      <th></th>\n",
       "      <th>dt</th>\n",
       "      <th>sunrise</th>\n",
       "      <th>sunset</th>\n",
       "      <th>temp</th>\n",
       "      <th>feels_like</th>\n",
       "      <th>pressure</th>\n",
       "      <th>humidity</th>\n",
       "      <th>dew_point</th>\n",
       "      <th>uvi</th>\n",
       "      <th>clouds</th>\n",
       "      <th>visibility</th>\n",
       "      <th>wind_speed</th>\n",
       "      <th>wind_deg</th>\n",
       "      <th>weather_main</th>\n",
       "      <th>weather_description</th>\n",
       "    </tr>\n",
       "  </thead>\n",
       "  <tbody>\n",
       "    <tr>\n",
       "      <th>0</th>\n",
       "      <td>2023-05-12 02:36:16</td>\n",
       "      <td>2023-05-12 05:51:41</td>\n",
       "      <td>2023-05-12 18:35:46</td>\n",
       "      <td>29.8</td>\n",
       "      <td>35.26</td>\n",
       "      <td>1009</td>\n",
       "      <td>73</td>\n",
       "      <td>24.44</td>\n",
       "      <td>0</td>\n",
       "      <td>20</td>\n",
       "      <td>10000</td>\n",
       "      <td>1.54</td>\n",
       "      <td>150</td>\n",
       "      <td>Clouds</td>\n",
       "      <td>few clouds</td>\n",
       "    </tr>\n",
       "  </tbody>\n",
       "</table>\n",
       "</div>"
      ],
      "text/plain": [
       "                    dt              sunrise               sunset  temp  \\\n",
       "0  2023-05-12 02:36:16  2023-05-12 05:51:41  2023-05-12 18:35:46  29.8   \n",
       "\n",
       "   feels_like  pressure  humidity  dew_point  uvi  clouds  visibility  \\\n",
       "0       35.26      1009        73      24.44    0      20       10000   \n",
       "\n",
       "   wind_speed  wind_deg weather_main weather_description  \n",
       "0        1.54       150       Clouds          few clouds  "
      ]
     },
     "execution_count": 14,
     "metadata": {},
     "output_type": "execute_result"
    }
   ],
   "source": [
    "# weather dataframe\n",
    "pd.DataFrame(weather_dict, index=[0])"
   ]
  },
  {
   "cell_type": "code",
   "execution_count": 15,
   "metadata": {},
   "outputs": [
    {
     "data": {
      "text/html": [
       "<div>\n",
       "<style scoped>\n",
       "    .dataframe tbody tr th:only-of-type {\n",
       "        vertical-align: middle;\n",
       "    }\n",
       "\n",
       "    .dataframe tbody tr th {\n",
       "        vertical-align: top;\n",
       "    }\n",
       "\n",
       "    .dataframe thead th {\n",
       "        text-align: right;\n",
       "    }\n",
       "</style>\n",
       "<table border=\"1\" class=\"dataframe\">\n",
       "  <thead>\n",
       "    <tr style=\"text-align: right;\">\n",
       "      <th></th>\n",
       "      <th>aqi</th>\n",
       "      <th>co</th>\n",
       "      <th>no</th>\n",
       "      <th>no2</th>\n",
       "      <th>o3</th>\n",
       "      <th>so2</th>\n",
       "      <th>pm2_5</th>\n",
       "      <th>pm10</th>\n",
       "      <th>nh3</th>\n",
       "    </tr>\n",
       "  </thead>\n",
       "  <tbody>\n",
       "    <tr>\n",
       "      <th>0</th>\n",
       "      <td>5</td>\n",
       "      <td>3177.64</td>\n",
       "      <td>75.1</td>\n",
       "      <td>41.81</td>\n",
       "      <td>0</td>\n",
       "      <td>38.15</td>\n",
       "      <td>87.39</td>\n",
       "      <td>135.53</td>\n",
       "      <td>11.53</td>\n",
       "    </tr>\n",
       "  </tbody>\n",
       "</table>\n",
       "</div>"
      ],
      "text/plain": [
       "   aqi       co    no    no2  o3    so2  pm2_5    pm10    nh3\n",
       "0    5  3177.64  75.1  41.81   0  38.15  87.39  135.53  11.53"
      ]
     },
     "execution_count": 15,
     "metadata": {},
     "output_type": "execute_result"
    }
   ],
   "source": [
    "# air quality dataframe\n",
    "pd.DataFrame(air_dict, index=[0])"
   ]
  }
 ],
 "metadata": {
  "kernelspec": {
   "display_name": "Python 3",
   "language": "python",
   "name": "python3"
  },
  "language_info": {
   "codemirror_mode": {
    "name": "ipython",
    "version": 3
   },
   "file_extension": ".py",
   "mimetype": "text/x-python",
   "name": "python",
   "nbconvert_exporter": "python",
   "pygments_lexer": "ipython3",
   "version": "3.10.5"
  },
  "orig_nbformat": 4
 },
 "nbformat": 4,
 "nbformat_minor": 2
}
